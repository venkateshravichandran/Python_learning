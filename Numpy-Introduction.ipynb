{
 "cells": [
  {
   "cell_type": "markdown",
   "id": "e9406c17-1852-4b77-bf85-01741125cb13",
   "metadata": {},
   "source": [
    "# Array Introduction"
   ]
  },
  {
   "cell_type": "markdown",
   "id": "fc02e055-5192-4187-9c9c-c4071e6bb450",
   "metadata": {},
   "source": [
    "## What is Numpy"
   ]
  },
  {
   "cell_type": "markdown",
   "id": "cf37dc31-fc7e-4a04-b993-993dd25e1be6",
   "metadata": {},
   "source": [
    "NumPy (Numerical Python) is an open source Python library that’s widely used in science and engineering. The NumPy library \n",
    "contains multidimensional array data structures, such as the homogeneous, N-dimensional ndarray, and a large library of \n",
    "functions that operate efficiently on these data structures. "
   ]
  },
  {
   "cell_type": "markdown",
   "id": "40ee0dd4-f22c-4695-9081-80f4ab83ef4a",
   "metadata": {},
   "source": [
    "## What is an “array”?"
   ]
  },
  {
   "cell_type": "markdown",
   "id": "721dbd26-9237-4dac-9e8a-83c28494eac0",
   "metadata": {},
   "source": [
    "Array is a linear data structure where all elements are arranged sequentially. It is a collection of elements of same data \n",
    "type stored at contiguous memory locations. "
   ]
  },
  {
   "cell_type": "markdown",
   "id": "bdbc1012-ae7c-4c4c-81a7-fb2461d60e95",
   "metadata": {},
   "source": [
    "## How to Create Numpy Arrays?"
   ]
  },
  {
   "cell_type": "code",
   "execution_count": 2,
   "id": "84aa3d58-9088-4ae3-b28e-fc106b5ad7d7",
   "metadata": {},
   "outputs": [],
   "source": [
    "import numpy as np"
   ]
  },
  {
   "cell_type": "code",
   "execution_count": 5,
   "id": "7ac84e5a-cec3-4f91-97d7-da6312565fbb",
   "metadata": {},
   "outputs": [
    {
     "name": "stdout",
     "output_type": "stream",
     "text": [
      "\n",
      "This is 1D array \n",
      " [1 2 3]\n",
      "<class 'numpy.ndarray'>\n",
      "\n",
      "This is 2D array \n",
      " [[1 2 3]\n",
      " [4 5 6]]\n"
     ]
    }
   ],
   "source": [
    "# Array can be created using array() function in numpy\n",
    "# Just passing an list as a argument in the function\n",
    "arr = np.array([1,2,3]) # This is an 1D- Array\n",
    "print('\\nThis is 1D array \\n',arr)\n",
    "print(type(arr)) # returns the object type\n",
    "\n",
    "arr_1 = np.array([[1,2,3],[4,5,6]])\n",
    "print('\\nThis is 2D array \\n',arr_1)"
   ]
  },
  {
   "cell_type": "code",
   "execution_count": 29,
   "id": "441c100c-11a8-4db0-9920-88dd3d83684a",
   "metadata": {},
   "outputs": [
    {
     "name": "stdout",
     "output_type": "stream",
     "text": [
      "int into float data type \n",
      " [1.  2.  3.  4.5]\n"
     ]
    }
   ],
   "source": [
    "arr = np.array([1,2,3,4.5]) # since the array has only single data type, the array converts into float bcz last element is float\n",
    "print('int into float data type \\n',arr)"
   ]
  },
  {
   "cell_type": "code",
   "execution_count": 30,
   "id": "8bc57d99-6561-4ff7-9c18-58b0368402cf",
   "metadata": {},
   "outputs": [
    {
     "name": "stdout",
     "output_type": "stream",
     "text": [
      "int into str data type \n",
      " ['1' '2' '3' 'four']\n"
     ]
    }
   ],
   "source": [
    "arr = np.array([1,2,3,'four'])\n",
    "print('int into str data type \\n',arr)"
   ]
  },
  {
   "cell_type": "markdown",
   "id": "342e2886-42bc-4e65-b390-ab5e25615197",
   "metadata": {},
   "source": [
    "## Arrays slicing"
   ]
  },
  {
   "cell_type": "code",
   "execution_count": 36,
   "id": "32e17ab2-63a7-4d78-bab0-1e0466fc8d7b",
   "metadata": {},
   "outputs": [
    {
     "name": "stdout",
     "output_type": "stream",
     "text": [
      "1st element \n",
      " 1\n",
      "1 to 3nd element \n",
      " [1 2 3]\n"
     ]
    }
   ],
   "source": [
    "arr = np.array([1,2,3,4,5,6]) # the slicing method works similar to list\n",
    "print('1st element \\n',arr[0]) # This is for 1-D array\n",
    "print('1 to 3nd element \\n',arr[0:3])"
   ]
  },
  {
   "cell_type": "code",
   "execution_count": 48,
   "id": "7bb1d264-325a-4b60-bf7d-69b33db1d0a7",
   "metadata": {},
   "outputs": [
    {
     "name": "stdout",
     "output_type": "stream",
     "text": [
      "2-D array \n",
      " [[ 1  2  3  4]\n",
      " [ 5  6  7  8]\n",
      " [ 9 10 11 12]]\n",
      "\n",
      " 1st row & 1st column \n",
      " 1\n",
      "\n",
      " 0:2 row & 1:3 columns \n",
      " [[2 3]\n",
      " [6 7]]\n"
     ]
    }
   ],
   "source": [
    "arr = np.array([[1,2,3,4],[5,6,7,8],[9,10,11,12]])\n",
    "print('2-D array \\n',arr)\n",
    "\n",
    "# slicing can be applied for 2-D array as row and column by comma seperated.(row start: row end, column start, column end) \n",
    "print('\\n 1st row & 1st column \\n',arr[0,0])\n",
    "print('\\n 0:2 row & 1:3 columns \\n',arr[0:2,1:3])"
   ]
  },
  {
   "cell_type": "markdown",
   "id": "f10e9af2-032a-4bcf-a2df-2c8935a9bfda",
   "metadata": {},
   "source": [
    "## Arrays Attributes"
   ]
  },
  {
   "cell_type": "code",
   "execution_count": 54,
   "id": "1c600437-66ce-4388-9525-dcfb85c4e2fb",
   "metadata": {},
   "outputs": [
    {
     "name": "stdout",
     "output_type": "stream",
     "text": [
      "Shape of the array \n",
      " (3, 4)\n",
      "\n",
      "Shape of the array \n",
      " (3, 4)\n"
     ]
    }
   ],
   "source": [
    "arr = np.array([[1,2,3,4],[5,6,7,8],[9,10,11,12]])\n",
    "print('Shape of the array \\n',arr.shape) # returns the shape of the array (no. of rows, no.of columns)\n",
    "print('\\nShape of the array \\n',np.shape(arr))"
   ]
  },
  {
   "cell_type": "code",
   "execution_count": 58,
   "id": "405e49c8-e22e-428a-a8ee-18171be2879e",
   "metadata": {},
   "outputs": [
    {
     "name": "stdout",
     "output_type": "stream",
     "text": [
      "Size of the array \n",
      " 12\n",
      "\n",
      "Size of the array \n",
      " 12\n"
     ]
    }
   ],
   "source": [
    "arr = np.array([[1,2,3,4],[5,6,7,8],[9,10,11,12]])\n",
    "print('Size of the array \\n',arr.size) # returns the size of the array (total no. of elements)\n",
    "print('\\nSize of the array \\n',np.size(arr))"
   ]
  },
  {
   "cell_type": "code",
   "execution_count": 59,
   "id": "96859cf2-4a8f-4f58-ba95-87d3b693e7eb",
   "metadata": {},
   "outputs": [
    {
     "name": "stdout",
     "output_type": "stream",
     "text": [
      "Dimension of the array \n",
      " 2\n",
      "\n",
      "Dimension of the array \n",
      " 2\n"
     ]
    }
   ],
   "source": [
    "arr = np.array([[1,2,3,4],[5,6,7,8],[9,10,11,12]])\n",
    "print('Dimension of the array \\n',arr.ndim) # returns the Dimension of the array.\n",
    "print('\\nDimension of the array \\n',np.ndim(arr))"
   ]
  },
  {
   "cell_type": "code",
   "execution_count": 9,
   "id": "d141150f-f991-4631-ae63-4e92f9081db2",
   "metadata": {},
   "outputs": [
    {
     "name": "stdout",
     "output_type": "stream",
     "text": [
      "Data type of the array \n",
      " int32\n",
      "Data type of the array \n",
      " float64\n",
      "Data type of the array \n",
      " <U5\n",
      "Data type of the array \n",
      " int32\n"
     ]
    }
   ],
   "source": [
    "arr = np.array([1,2,3,4])\n",
    "arr_1 = np.array([1.1,2.2,3.3,4.4])\n",
    "arr_2 = np.array(['one','two','three','four'])\n",
    "\n",
    "print('Data type of the array \\n',arr.dtype) # returns the data type of the array.\n",
    "print('Data type of the array \\n',arr_1.dtype)\n",
    "print('Data type of the array \\n',arr_2.dtype)\n",
    "print('Data type of the array \\n',arr_3.dtype)"
   ]
  },
  {
   "cell_type": "markdown",
   "id": "acda0079-ba07-4b57-bb55-62dda809be62",
   "metadata": {},
   "source": [
    "## Arrays Function"
   ]
  },
  {
   "cell_type": "code",
   "execution_count": 73,
   "id": "0b9dbc5a-cc6c-45c8-b19c-8311c28d63d1",
   "metadata": {},
   "outputs": [
    {
     "name": "stdout",
     "output_type": "stream",
     "text": [
      "Range of 5:                       =  [0 1 2 3 4]\n",
      "Range b/w 1 to 5 :                =  [1 2 3 4]\n",
      "Range b/w 1 to 5 with step of 2 : =  [1 3]\n"
     ]
    }
   ],
   "source": [
    "# arange() function return evenly spaced values within a given interval. arange([start,] stop[, step,], dtype=None)\n",
    "print('Range of 5:                       = ',np.arange(5))\n",
    "print('Range b/w 1 to 5 :                = ',np.arange(1,5))\n",
    "print('Range b/w 1 to 5 with step of 2 : = ',np.arange(1,5,2))"
   ]
  },
  {
   "cell_type": "code",
   "execution_count": 78,
   "id": "a1794b88-5e5e-4f70-88a1-fd9a32029b90",
   "metadata": {},
   "outputs": [
    {
     "name": "stdout",
     "output_type": "stream",
     "text": [
      "3 X 3 matrix:\n",
      " [[0. 0. 0.]\n",
      " [0. 0. 0.]\n",
      " [0. 0. 0.]]\n",
      "\n",
      "3 X 3 matrix:\n",
      " [[0 0 0]\n",
      " [0 0 0]\n",
      " [0 0 0]]\n"
     ]
    }
   ],
   "source": [
    "# zeros() function return a new array of given shape and type, filled with zeros.\n",
    "print('3 X 3 matrix:\\n',np.zeros((3,3))) # default data type is float\n",
    "print('\\n3 X 3 matrix:\\n',np.zeros((3,3),dtype=int)) # int data type"
   ]
  },
  {
   "cell_type": "code",
   "execution_count": 79,
   "id": "93d5243c-e2df-4cd4-b59f-86ea97f6dede",
   "metadata": {},
   "outputs": [
    {
     "name": "stdout",
     "output_type": "stream",
     "text": [
      "3 X 3 matrix:\n",
      " [[1. 1. 1.]\n",
      " [1. 1. 1.]\n",
      " [1. 1. 1.]]\n",
      "\n",
      "3 X 3 matrix:\n",
      " [[1 1 1]\n",
      " [1 1 1]\n",
      " [1 1 1]]\n"
     ]
    }
   ],
   "source": [
    "# ones() function return a new array of given shape and type, filled with one.\n",
    "print('3 X 3 matrix:\\n',np.ones((3,3))) # default data type is float\n",
    "print('\\n3 X 3 matrix:\\n',np.ones((3,3),dtype=int)) # int data type"
   ]
  },
  {
   "cell_type": "code",
   "execution_count": 84,
   "id": "595b8637-2ef1-4585-9b46-1549f0335693",
   "metadata": {},
   "outputs": [
    {
     "name": "stdout",
     "output_type": "stream",
     "text": [
      "3 X 3 matrix:\n",
      " [[4 4 4]\n",
      " [4 4 4]\n",
      " [4 4 4]]\n",
      "\n",
      "3 X 3 matrix:\n",
      " [[1 2 3]\n",
      " [1 2 3]\n",
      " [1 2 3]]\n"
     ]
    }
   ],
   "source": [
    "# full() function return a new array of given shape and type, filled with given value.\n",
    "print('3 X 3 matrix:\\n',np.full((3,3),4)) # shape as tuple and fill_value as 4\n",
    "print('\\n3 X 3 matrix:\\n',np.full((3,3),[1,2,3])) # shape as tuple and fill_value as array"
   ]
  },
  {
   "cell_type": "code",
   "execution_count": 6,
   "id": "ba4b7072-3b3d-4f01-8b0d-4f38300ae169",
   "metadata": {},
   "outputs": [
    {
     "name": "stdout",
     "output_type": "stream",
     "text": [
      "1-D array: =  [1 2 3 4 5 6]\n",
      "\n",
      "3 X 3 matrix:\n",
      " [[1 2 3]\n",
      " [4 5 6]]\n"
     ]
    }
   ],
   "source": [
    "# reshape() function gives a new shape to an array without changing its data..\n",
    "print('1-D array: = ',np.arange(1,7)) \n",
    "print('\\n3 X 3 matrix:\\n',np.arange(1,7).reshape(2,3)) # shape as tuple and fill_value as array"
   ]
  },
  {
   "cell_type": "code",
   "execution_count": 36,
   "id": "1030b56f-758e-446d-a5f8-8c51c56afd98",
   "metadata": {},
   "outputs": [
    {
     "name": "stdout",
     "output_type": "stream",
     "text": [
      "default axis is None \n",
      " [1 1 2 2 3 3 4 4 5 5 6 6]\n",
      "\n",
      " axis is 0 (vertical join) \n",
      " [[1 2 3]\n",
      " [1 2 3]\n",
      " [4 5 6]\n",
      " [4 5 6]]\n",
      "\n",
      " axis is 1 (horizontal join) \n",
      " [[1 1 2 2 3 3]\n",
      " [4 4 5 5 6 6]]\n"
     ]
    }
   ],
   "source": [
    "# repeat() function will repeat each element of an array after themselves\n",
    "arr = np.array([[1,2,3],\n",
    "                [4,5,6]])\n",
    "print('default axis is None \\n',np.repeat(arr,2)) # By default, it return a flat output array.\n",
    "print('\\n axis is 0 (vertical join) \\n',np.repeat(arr,2,axis=0))\n",
    "print('\\n axis is 1 (horizontal join) \\n',np.repeat(arr,2,axis=1))"
   ]
  },
  {
   "cell_type": "code",
   "execution_count": 50,
   "id": "10ce5e10-38ba-4e92-817d-1b603f1574b1",
   "metadata": {},
   "outputs": [
    {
     "name": "stdout",
     "output_type": "stream",
     "text": [
      "By default, joins by vertical \n",
      " [[ 1  2  3]\n",
      " [ 4  5  6]\n",
      " [ 7  8  9]\n",
      " [10 11 12]]\n",
      "\n",
      "Horizontal joins by axis=0 \n",
      " [[ 1  2  3  7  8  9]\n",
      " [ 4  5  6 10 11 12]]\n",
      "\n",
      "flattend joins by axis= None \n",
      " [ 1  2  3  4  5  6  7  8  9 10 11 12]\n"
     ]
    }
   ],
   "source": [
    "# concatenate () function join a sequence of arrays along an existing axis\n",
    "arr = np.array([[1,2,3],\n",
    "                [4,5,6]])\n",
    "arr_1 = np.array([[7,8,9],\n",
    "                  [10,11,12]])\n",
    "\n",
    "print('By default, joins by vertical \\n',np.concatenate((arr,arr_1)))\n",
    "print('\\nHorizontal joins by axis=0 \\n',np.concatenate((arr,arr_1),axis=1))\n",
    "print('\\nflattend joins by axis= None \\n',np.concatenate((arr,arr_1),axis=None))"
   ]
  },
  {
   "cell_type": "code",
   "execution_count": 54,
   "id": "b2188104-ec38-4b38-8bf2-25de20ba573c",
   "metadata": {},
   "outputs": [
    {
     "name": "stdout",
     "output_type": "stream",
     "text": [
      "[[ 1  2  3]\n",
      " [ 4  5  6]\n",
      " [ 7  8  9]\n",
      " [10 11 12]]\n"
     ]
    }
   ],
   "source": [
    "# vstack () function stack arrays in sequence vertically (row wise)\n",
    "arr = np.array([[1,2,3],\n",
    "                [4,5,6]])\n",
    "arr_1 = np.array([[7,8,9],\n",
    "                  [10,11,12]])\n",
    "print(np.vstack((arr,arr_1)))"
   ]
  },
  {
   "cell_type": "code",
   "execution_count": 56,
   "id": "ac7e10be-29d9-46b6-b227-795cebc92667",
   "metadata": {},
   "outputs": [
    {
     "name": "stdout",
     "output_type": "stream",
     "text": [
      "[[ 1  2  3  7  8  9]\n",
      " [ 4  5  6 10 11 12]]\n"
     ]
    }
   ],
   "source": [
    "# hstack () function stack arrays in sequence horizontal (column wise)\n",
    "arr = np.array([[1,2,3],\n",
    "                [4,5,6]])\n",
    "arr_1 = np.array([[7,8,9],\n",
    "                  [10,11,12]])\n",
    "print(np.hstack((arr,arr_1)))"
   ]
  },
  {
   "cell_type": "code",
   "execution_count": 7,
   "id": "bb0b8d08-11a0-4300-bed9-ca831c63a2f1",
   "metadata": {},
   "outputs": [
    {
     "name": "stdout",
     "output_type": "stream",
     "text": [
      "The power values is \"2\" \n",
      " [1 4 9]\n",
      "\n",
      "The power values is a array \"[2,1,3]\" \n",
      " [ 1  2 27]\n"
     ]
    }
   ],
   "source": [
    "# power() returns the first array elements raised to powers from second array, element-wise. \n",
    "arr = np.array([1,2,3])\n",
    "print('The power values is \"2\" \\n',np.power(arr,2)) # the 1st array raised to the power of second array (2)\n",
    "print('\\nThe power values is a array \"[2,1,3]\" \\n',np.power(arr,[2,1,3]))"
   ]
  },
  {
   "cell_type": "code",
   "execution_count": 16,
   "id": "32031824-530e-41a7-9633-b83752368995",
   "metadata": {},
   "outputs": [
    {
     "name": "stdout",
     "output_type": "stream",
     "text": [
      "Input array: =  [1 3 6 9 6]\n",
      "\n",
      "First order difference: = [ 2  3  3 -3]\n",
      "\n",
      "Second order difference: = [ 1  0 -6]\n"
     ]
    }
   ],
   "source": [
    "# diff() calculate the n-th discrete difference along the given axis. The first order difference is given by out[i] = arr[i+1] – arr[i] along the given axis.\n",
    "arr = np.array([1,3,6,9,6])\n",
    "# Here the axis is default as input\n",
    "print('Input array: = ',arr)\n",
    "print('\\nFirst order difference: =',np.diff(arr)) # [[3-1] [6-3] [9-6] [6-9]]\n",
    "print('\\nSecond order difference: =',np.diff(arr,n=2)) # [[3-1] [6-3] [9-6] [6-9]] => [ 2  3  3 -3] and [[3-2] [3-3] [-3-3]] => [1 0 -6]"
   ]
  },
  {
   "cell_type": "code",
   "execution_count": 28,
   "id": "b3496239-2e1a-4dd7-8cbb-d3d95b10491e",
   "metadata": {},
   "outputs": [
    {
     "name": "stdout",
     "output_type": "stream",
     "text": [
      "Input array\n",
      " [[1 3 6 9 6]\n",
      " [5 9 3 7 5]]\n",
      "\n",
      "First order difference\n",
      " [[ 4  6 -3 -2 -1]]\n",
      "\n",
      "Second order difference\n",
      " []\n"
     ]
    }
   ],
   "source": [
    "arr = np.array([[1,3,6,9,6],[5,9,3,7,5]])\n",
    "# Here the axis is default as input\n",
    "print('Input array\\n',arr)\n",
    "print('\\nFirst order difference\\n',np.diff(arr,axis=0)) # [[5-1] [9-3] [3-6] [7-9] [5-6]]\n",
    "print('\\nSecond order difference\\n',np.diff(arr,n=2,axis=0)) # [[3-1] [6-3] [9-6] [6-9]] => [ 2  3  3 -3] and [[3-2] [3-3] [-3-3]] => [1 0 -6]"
   ]
  },
  {
   "cell_type": "code",
   "execution_count": 7,
   "id": "0e0fa3a5-d69b-4c46-84ac-5212b5e2ca5c",
   "metadata": {},
   "outputs": [
    {
     "name": "stdout",
     "output_type": "stream",
     "text": [
      "Original Array\n",
      " [[1 7 6]\n",
      " [5 9 3]]\n",
      "\n",
      "Axis is default as input\n",
      " [[1 6 7]\n",
      " [3 5 9]]\n",
      "\n",
      "Axis is None\n",
      " [1 3 5 6 7 9]\n",
      "\n",
      "Axis is 0\n",
      " [[1 7 3]\n",
      " [5 9 6]]\n",
      "\n",
      "Axis is 1\n",
      " [[1 6 7]\n",
      " [3 5 9]]\n"
     ]
    }
   ],
   "source": [
    "# sort() function return a sorted copy of an array.\n",
    "arr = np.array([[1,7,6],\n",
    "                [5,9,3]])\n",
    "print('Original Array\\n',arr)\n",
    "print('\\nAxis is default as input\\n',np.sort(arr))\n",
    "print('\\nAxis is None\\n',np.sort(arr,axis=None)) # returns the flattened array\n",
    "print('\\nAxis is 0\\n',np.sort(arr,axis=0)) # compare the values row-wise and sort it. \n",
    "print('\\nAxis is 1\\n',np.sort(arr,axis=1)) # compare the values column-wise and sort it. it si similar to 1st output"
   ]
  },
  {
   "cell_type": "code",
   "execution_count": 28,
   "id": "56b80062-25eb-452a-b23e-296c8b627866",
   "metadata": {},
   "outputs": [
    {
     "name": "stdout",
     "output_type": "stream",
     "text": [
      "order-C:= [1 7 6 5 9 3]\n",
      "order-F:= [1 5 7 9 6 3]\n"
     ]
    }
   ],
   "source": [
    "# flatten() Return a copy of the array collapsed into one dimension.\n",
    "arr = np.array([[1,7,6],\n",
    "                [5,9,3]])\n",
    "print('order-C:=',arr.flatten(order='C')) # Flatten the elemets row-wise (1st row elements and 2nd row)\n",
    "print('order-F:=',arr.flatten(order='F')) # Flatten the elemets column-wise (1st column elements and 2nd column)"
   ]
  },
  {
   "cell_type": "code",
   "execution_count": 44,
   "id": "f84f648b-10dd-4539-a45a-17fb7b531a4f",
   "metadata": {},
   "outputs": [
    {
     "name": "stdout",
     "output_type": "stream",
     "text": [
      "Sum of all elements of array:  31\n",
      "Sum of each row of array    :  [ 6 16  9]\n",
      "Sum of each column of array :  [14 17]\n"
     ]
    }
   ],
   "source": [
    "# sum() returns the sum of array elements over the specified axis.\n",
    "arr = np.array([[1,7,6],\n",
    "                [5,9,3]])\n",
    "print('Sum of all elements of array: ',np.sum(arr)) # add all the elements of the array\n",
    "print('Sum of each row of array    : ',np.sum(arr,axis=0)) # elements of array are sum vertically\n",
    "print('Sum of each column of array : ',np.sum(arr,axis=1)) # elements of array are added horizontally"
   ]
  },
  {
   "cell_type": "code",
   "execution_count": 46,
   "id": "ba8ed2b2-f7fc-42c6-afe6-965d02b027b2",
   "metadata": {},
   "outputs": [
    {
     "name": "stdout",
     "output_type": "stream",
     "text": [
      "Sum of all elements of array:  28.0\n",
      "Sum of each row of array    :  [ 6. 16.  6.]\n",
      "Sum of each column of array :  [14. 14.]\n"
     ]
    }
   ],
   "source": [
    "# nansum() return the sum of array elements over a given axis treating Not a Numbers (NaNs) as zero.\n",
    "# similar to sum () function, additionally convert 'nan' into 0.\n",
    "# This function used when we need to compute sum operation including 'nan' in array\n",
    "arr = np.array([[1,7,6],\n",
    "                [5,9,np.nan]])\n",
    "print('Sum of all elements of array: ',np.nansum(arr)) # add all the elements of the array\n",
    "print('Sum of each row of array    : ',np.nansum(arr,axis=0)) # elements of array are sum vertically\n",
    "print('Sum of each column of array : ',np.nansum(arr,axis=1)) # elements of array are added horizontally"
   ]
  },
  {
   "cell_type": "code",
   "execution_count": 68,
   "id": "5398e1db-e9ae-4106-a788-f6c883878421",
   "metadata": {},
   "outputs": [
    {
     "name": "stdout",
     "output_type": "stream",
     "text": [
      " Axis is default as flatten\n",
      " [   2   10   40  120  120  240  720 2880 2880]\n",
      "\n",
      "Axis is 0 as rows cum product\n",
      " [[ 2  5  4]\n",
      " [ 6  5  8]\n",
      " [18 20  8]]\n",
      "\n",
      "Axis is 1 as rows cum product\n",
      " [[ 2 10 40]\n",
      " [ 3  3  6]\n",
      " [ 3 12 12]]\n"
     ]
    }
   ],
   "source": [
    "# cumprod() return the cumulative product of elements along a given axis.\n",
    "arr = np.array([[2,5,4],\n",
    "                [3,1,2],\n",
    "                [3,4,1]])\n",
    "print(' Axis is default as flatten\\n',np.cumprod(arr))\n",
    "# multiply element by element (1st element will be same,)2, 2*5=10, 2*5*4=40, 2*5*4*3=120, 2*5*4*3*1=120, 2*5*4*3*1*2=240, 2*5*4*3*1*2*3=720, 2*5*4*3*1*2*3*4=2880, 2*5*4*3*1*2*3*4*1=2880\n",
    "print('\\nAxis is 0 as rows cum product\\n',np.cumprod(arr,axis=0))\n",
    "# When axis is 0, row-wise cum product will applied on array, so elements in 1st rows are remain same.  \n",
    "# [[ 2  ,   5   ,  4  ],     [[ 2  5  4]                                                                                     \n",
    "# [ 2*3 ,  5*1  , 4*2 ],   =  [ 6  5  8]                                                  \n",
    "# [2*3*3, 5*1*4 ,4*2*1]]      [18 20  8]]\n",
    "print('\\nAxis is 1 as rows cum product\\n',np.cumprod(arr,axis=1))\n",
    "\n",
    "# When axis is 1, column-wise cum product will applied on array, so elements in 1st column are remain same.  \n",
    "# [[2 , 2*5 , 2*5*4],     [[ 2  10 40]                                                                                     \n",
    "#  [3 , 3*1 , 3*1*2],   =  [ 3  3  6 ]                                                  \n",
    "#  [3 , 3*4 , 3*4*1]]      [3  12  12]]"
   ]
  },
  {
   "cell_type": "code",
   "execution_count": 71,
   "id": "00ccd21b-bd8d-42d0-b248-bfc30ddf3504",
   "metadata": {},
   "outputs": [
    {
     "name": "stdout",
     "output_type": "stream",
     "text": [
      " Axis is default as flatten\n",
      " [ 2  7 11 14 15 17 20 24 25]\n",
      "\n",
      "Axis is 0 as rows cum product\n",
      " [[ 2  5  4]\n",
      " [ 5  6  6]\n",
      " [ 8 10  7]]\n",
      "\n",
      "Axis is 1 as rows cum product\n",
      " [[ 2  7 11]\n",
      " [ 3  4  6]\n",
      " [ 3  7  8]]\n"
     ]
    }
   ],
   "source": [
    "# cumprod() return the cumulative sum of the elements along a given axis.\n",
    "arr = np.array([[2,5,4],\n",
    "                [3,1,2],\n",
    "                [3,4,1]])\n",
    "print(' Axis is default as flatten\\n',np.cumsum(arr))\n",
    "# add element by element (1st element will be same,)2, 2+5=7, 2+5+4=11, 2+5+4+3=14, 2+5+4+3+1=15, 2+5+4+3+1+2=17, 2+5+4+3+1+2+3=20, 2+5+4+3+1+2+3+4=24, 2+5+4+3+1+2+3+4+1=25\n",
    "print('\\nAxis is 0 as rows cum product\\n',np.cumsum(arr,axis=0))\n",
    "# When axis is 0, row-wise cum product will applied on array, so elements in 1st rows are remain same.  \n",
    "# [[ 2  ,   5   ,  4  ],     [[ 2  5  4]                                                                                     \n",
    "# [ 2+3 ,  5+1  , 4+2 ],   =  [ 5  6  6]                                                  \n",
    "# [2+3+3, 5+1+4 ,4+2+1]]      [8 10  7]]\n",
    "print('\\nAxis is 1 as rows cum product\\n',np.cumsum(arr,axis=1))\n",
    "\n",
    "# When axis is 1, column-wise cum product will applied on array, so elements in 1st column are remain same.  \n",
    "# [[2 , 2+5 , 2+5+4],     [[2  7  11]                                                                                     \n",
    "#  [3 , 3+1 , 3+1+2],   =  [3  4  6]                                                  \n",
    "#  [3 , 3+4 , 3+4+1]]      [3  7  8]]"
   ]
  },
  {
   "cell_type": "markdown",
   "id": "2e9e1a08-cf3e-4c1f-84df-e158cf1d39da",
   "metadata": {},
   "source": [
    "## Array Iteration function"
   ]
  },
  {
   "cell_type": "markdown",
   "id": "cee497e6-696a-4a23-9eb7-0d3ee3da832b",
   "metadata": {},
   "source": [
    "- nditer() method"
   ]
  },
  {
   "cell_type": "code",
   "execution_count": 13,
   "id": "5592c7b7-c54f-446b-865a-c1ed79ac895a",
   "metadata": {},
   "outputs": [
    {
     "name": "stdout",
     "output_type": "stream",
     "text": [
      "2\n",
      "5\n",
      "4\n",
      "3\n",
      "1\n",
      "2\n",
      "3\n",
      "4\n",
      "1\n"
     ]
    }
   ],
   "source": [
    "arr = np.array([[2,5,4],\n",
    "                [3,1,2],\n",
    "                [3,4,1]])\n",
    "# tradition way of iteration\n",
    "for i in arr:\n",
    "    for j in i:\n",
    "        print(j)"
   ]
  },
  {
   "cell_type": "code",
   "execution_count": 22,
   "id": "67f04369-b3f4-495a-8ebd-65b5090a3563",
   "metadata": {},
   "outputs": [
    {
     "name": "stdout",
     "output_type": "stream",
     "text": [
      "2\n",
      "5\n",
      "4\n",
      "3\n",
      "1\n",
      "2\n",
      "3\n",
      "4\n",
      "1\n"
     ]
    }
   ],
   "source": [
    "# nditer() method is efficient multi-dimensional iterator object to iterate over arrays\n",
    "# Alternatively nditer() (n dimensional iteration method) function come with iteration\n",
    "# This method iterate over each element of array.\n",
    "for elem in np.nditer(arr):\n",
    "    print(elem)"
   ]
  },
  {
   "cell_type": "markdown",
   "id": "d86832f2-dbc3-4181-ad67-de6c0bf70d4f",
   "metadata": {},
   "source": [
    "- ndenumerate() method"
   ]
  },
  {
   "cell_type": "code",
   "execution_count": 25,
   "id": "4e9e786a-4439-4c4e-8636-4e97827d91d4",
   "metadata": {},
   "outputs": [
    {
     "name": "stdout",
     "output_type": "stream",
     "text": [
      "Index is (0,) and its elements is 2\n",
      "Index is (1,) and its elements is 5\n",
      "Index is (2,) and its elements is 4\n"
     ]
    }
   ],
   "source": [
    "# ndenumerate() method is an Multidimensional index iterator. It return an iterator yielding pairs of array coordinates and values\n",
    "arr = np.array([2,5,4])\n",
    "# 1D array\n",
    "for index, elem in np.ndenumerate(arr):\n",
    "    print(f'Index is {index} and its elements is {elem}')"
   ]
  },
  {
   "cell_type": "code",
   "execution_count": 24,
   "id": "c8dda8e8-a3f4-481c-9230-09a1ba99eb5f",
   "metadata": {},
   "outputs": [
    {
     "name": "stdout",
     "output_type": "stream",
     "text": [
      "Index is (0, 0) and its elements is 2\n",
      "Index is (0, 1) and its elements is 5\n",
      "Index is (0, 2) and its elements is 4\n",
      "Index is (1, 0) and its elements is 3\n",
      "Index is (1, 1) and its elements is 1\n",
      "Index is (1, 2) and its elements is 2\n",
      "Index is (2, 0) and its elements is 3\n",
      "Index is (2, 1) and its elements is 4\n",
      "Index is (2, 2) and its elements is 1\n"
     ]
    }
   ],
   "source": [
    "# ndenumerate() method is an Multidimensional index iterator. It return an iterator yielding pairs of array coordinates and values\n",
    "arr = np.array([[2,5,4],\n",
    "                [3,1,2],\n",
    "                [3,4,1]])\n",
    "# 2D array\n",
    "for index, elem in np.ndenumerate(arr):\n",
    "    print(f'Index is {index} and its elements is {elem}')"
   ]
  },
  {
   "cell_type": "code",
   "execution_count": 30,
   "id": "0458eab3-5112-4576-a25a-27a3a2b30107",
   "metadata": {},
   "outputs": [
    {
     "name": "stdout",
     "output_type": "stream",
     "text": [
      "Index is (0, 0, 0) and its elements is 2\n",
      "Index is (0, 0, 1) and its elements is 5\n",
      "Index is (0, 0, 2) and its elements is 4\n",
      "Index is (0, 1, 0) and its elements is 3\n",
      "Index is (0, 1, 1) and its elements is 1\n",
      "Index is (0, 1, 2) and its elements is 2\n",
      "Index is (0, 2, 0) and its elements is 3\n",
      "Index is (0, 2, 1) and its elements is 4\n",
      "Index is (0, 2, 2) and its elements is 1\n",
      "Index is (1, 0, 0) and its elements is 2\n",
      "Index is (1, 0, 1) and its elements is 5\n",
      "Index is (1, 0, 2) and its elements is 4\n",
      "Index is (1, 1, 0) and its elements is 3\n",
      "Index is (1, 1, 1) and its elements is 1\n",
      "Index is (1, 1, 2) and its elements is 2\n",
      "Index is (1, 2, 0) and its elements is 3\n",
      "Index is (1, 2, 1) and its elements is 4\n",
      "Index is (1, 2, 2) and its elements is 1\n"
     ]
    }
   ],
   "source": [
    "# ndenumerate() method is an Multidimensional index iterator. It return an iterator yielding pairs of array coordinates and values\n",
    "arr = np.array([[[2,5,4],\n",
    "                [3,1,2],\n",
    "                [3,4,1]],\n",
    "                \n",
    "              [[2,5,4],\n",
    "                [3,1,2],\n",
    "                [3,4,1]]])\n",
    "# 3D array\n",
    "for index, elem in np.ndenumerate(arr):\n",
    "    print(f'Index is {index} and its elements is {elem}')"
   ]
  },
  {
   "cell_type": "markdown",
   "id": "93ed8bf8-708e-4652-a7ae-1a691b594db9",
   "metadata": {},
   "source": [
    "## copy() VS view() function"
   ]
  },
  {
   "cell_type": "code",
   "execution_count": 34,
   "id": "771c6598-e857-4c6c-b38d-b6ff852ea9e3",
   "metadata": {},
   "outputs": [
    {
     "name": "stdout",
     "output_type": "stream",
     "text": [
      "original array = [1 2 8 4 5] and copied array is [1 2 3 4 5]\n"
     ]
    }
   ],
   "source": [
    "# The main difference of copy and view function is, copy functon creates an new copy of original array. whereas, view is just views the original array. \n",
    "# In copy function, it copy entire the data of original, any changes in original will not affect the copied array.\n",
    "# In view function, any changes in original will affect the viewed array.\n",
    "\n",
    "arr = np.array([1,2,3,4,5])\n",
    "copy_arr = np.copy(arr)\n",
    "\n",
    "arr[2] = 8 # The copied array will not affected\n",
    "print(f'original array = {arr} and copied array is {copy_arr}')"
   ]
  },
  {
   "cell_type": "code",
   "execution_count": 36,
   "id": "d012bed6-f2e3-44fe-8e39-ab9110741479",
   "metadata": {},
   "outputs": [
    {
     "name": "stdout",
     "output_type": "stream",
     "text": [
      "original array = [1 2 3 4 5] and copied array is [1 2 3 4 5]\n"
     ]
    }
   ],
   "source": [
    "arr = np.array([1,2,3,4,5])\n",
    "view_arr = arr.view()\n",
    "print(f'original array = {arr} and copied array is {view_arr}')"
   ]
  },
  {
   "cell_type": "code",
   "execution_count": 37,
   "id": "37959b2a-2f76-4313-b462-1a10b2f815bf",
   "metadata": {},
   "outputs": [
    {
     "name": "stdout",
     "output_type": "stream",
     "text": [
      "original array = [1 2 8 4 5] and copied array is [1 2 8 4 5]\n"
     ]
    }
   ],
   "source": [
    "arr[2] = 8 # any changes made in original will affected the viewed array\n",
    "print(f'original array = {arr} and copied array is {view_arr}')"
   ]
  },
  {
   "cell_type": "code",
   "execution_count": 39,
   "id": "f9bc3839-0fad-43e8-992b-bd05ec05af10",
   "metadata": {},
   "outputs": [
    {
     "name": "stdout",
     "output_type": "stream",
     "text": [
      "original array = [1 2 8 9 5] and copied array is [1 2 8 9 5]\n"
     ]
    }
   ],
   "source": [
    "view_arr[3]=9 # # any changes made in view array will affected the original array\n",
    "print(f'original array = {arr} and copied array is {view_arr}')"
   ]
  },
  {
   "cell_type": "markdown",
   "id": "c423b311-a258-42dc-b66a-f2dde68b92b0",
   "metadata": {},
   "source": [
    "## split() function"
   ]
  },
  {
   "cell_type": "code",
   "execution_count": 71,
   "id": "098877e3-db84-4ade-8fc5-7bf1809ca364",
   "metadata": {
    "scrolled": true
   },
   "outputs": [
    {
     "name": "stdout",
     "output_type": "stream",
     "text": [
      "[array([2, 5, 4]), array([3, 1]), array([2, 3]), array([4, 1])] \n",
      "\n",
      "[array([2, 5]), array([4, 3]), array([1, 2]), array([3, 4]), array([1])] \n",
      "\n",
      "[array([2, 5]), array([4, 3]), array([1, 2]), array([3]), array([4]), array([1])] \n",
      "\n"
     ]
    }
   ],
   "source": [
    "# array_split() split an array into multiple sub-arrays with specified division as 2nd argument\n",
    "arr = np.array([2,5,4,3,1,2,3,4,1])\n",
    "print(np.array_split(arr,4),'\\n')\n",
    "print(np.array_split(arr,5),'\\n')\n",
    "print(np.array_split(arr,6),'\\n')\n"
   ]
  },
  {
   "cell_type": "code",
   "execution_count": 53,
   "id": "e98b28df-d948-47b7-8f9e-1f11f8ea8270",
   "metadata": {},
   "outputs": [
    {
     "name": "stdout",
     "output_type": "stream",
     "text": [
      "[[ 0  1  2  3  4]\n",
      " [ 5  6  7  8  9]\n",
      " [10 11 12 13 14]]\n"
     ]
    }
   ],
   "source": [
    "a = np.arange(15).reshape(3, 5)\n",
    "print(a)"
   ]
  },
  {
   "cell_type": "code",
   "execution_count": 66,
   "id": "08d9c55c-69ec-4ee5-b5ea-36800795628d",
   "metadata": {},
   "outputs": [
    {
     "data": {
      "text/plain": [
       "[array([[0, 1, 2, 3, 4],\n",
       "        [5, 6, 7, 8, 9]]),\n",
       " array([[10, 11, 12, 13, 14]])]"
      ]
     },
     "execution_count": 66,
     "metadata": {},
     "output_type": "execute_result"
    }
   ],
   "source": [
    "# When applying axis value 0 to this method \n",
    "np.array_split(a,2,0) # row-wise spliting "
   ]
  },
  {
   "cell_type": "code",
   "execution_count": 67,
   "id": "2feaec88-d2c9-4ebb-8e29-73fed4df37b3",
   "metadata": {},
   "outputs": [
    {
     "data": {
      "text/plain": [
       "[array([[ 0,  1,  2],\n",
       "        [ 5,  6,  7],\n",
       "        [10, 11, 12]]),\n",
       " array([[ 3,  4],\n",
       "        [ 8,  9],\n",
       "        [13, 14]])]"
      ]
     },
     "execution_count": 67,
     "metadata": {},
     "output_type": "execute_result"
    }
   ],
   "source": [
    "# When applying axis value 1 to this method \n",
    "np.array_split(a,2,1) # column-wise spliting "
   ]
  },
  {
   "cell_type": "markdown",
   "id": "e94fd7d2-5582-418f-9e32-baa4e7e5d647",
   "metadata": {},
   "source": [
    "## where() function"
   ]
  },
  {
   "cell_type": "code",
   "execution_count": 84,
   "id": "086f1fbc-dd5e-4d0f-9b75-96dfc59e013c",
   "metadata": {},
   "outputs": [
    {
     "name": "stdout",
     "output_type": "stream",
     "text": [
      "Original array: \n",
      "[[ 0  1  2  3  4]\n",
      " [ 5  6  7  8  9]\n",
      " [10 11 12 13 14]]\n",
      "\n",
      "filtered as elements ==1 \n",
      " (array([1], dtype=int64), array([0], dtype=int64))\n",
      "\n",
      "filtered as elements >7 \n",
      " (array([1, 1, 2, 2, 2, 2, 2], dtype=int64), array([3, 4, 0, 1, 2, 3, 4], dtype=int64))\n",
      "\n",
      "filtered as even numbers\n",
      " (array([0, 0, 0, 1, 1, 2, 2, 2], dtype=int64), array([0, 2, 4, 1, 3, 0, 2, 4], dtype=int64))\n"
     ]
    }
   ],
   "source": [
    "# where() return elements chosen from `x` or `y` array depending on `condition` given.\n",
    "arr = np.arange(15).reshape(3, 5)\n",
    "print(f'Original array: \\n{arr}')\n",
    "print('\\nfiltered as elements ==1 \\n',np.where(arr==5)) # return the two array: one is row another is columns\n",
    "print('\\nfiltered as elements >7 \\n',np.where(arr>7))\n",
    "print('\\nfiltered as even numbers\\n',np.where(arr%2==0))"
   ]
  },
  {
   "cell_type": "markdown",
   "id": "4c9adb00-904c-423e-b3f9-eb54ad3f6a36",
   "metadata": {},
   "source": [
    "## filter() function"
   ]
  },
  {
   "cell_type": "code",
   "execution_count": 93,
   "id": "4ab55f1a-bb57-4377-9047-9cf1cf91741f",
   "metadata": {
    "jp-MarkdownHeadingCollapsed": true
   },
   "outputs": [],
   "source": [
    "# Filter function filter the elements from array and return"
   ]
  },
  {
   "cell_type": "code",
   "execution_count": null,
   "id": "6412cad2-3558-48d9-aaed-f63755cb6b47",
   "metadata": {},
   "outputs": [],
   "source": []
  },
  {
   "cell_type": "code",
   "execution_count": 96,
   "id": "538ce2a1-0660-43e3-aa88-4f19ce8cec82",
   "metadata": {},
   "outputs": [
    {
     "name": "stdout",
     "output_type": "stream",
     "text": [
      "Original array: \n",
      "[[ 0  1  2  3  4]\n",
      " [ 5  6  7  8  9]\n",
      " [10 11 12 13 14]]\n",
      "\n",
      "Boolean values\n",
      " [[False False False False False]\n",
      " [False False False  True  True]\n",
      " [ True  True  True  True  True]]\n",
      "\n",
      "Filter elements\n",
      " [ 8  9 10 11 12 13 14]\n"
     ]
    }
   ],
   "source": [
    "arr = np.arange(15).reshape(3, 5)\n",
    "print(f'Original array: \\n{arr}')\n",
    "\n",
    "fil_arr = arr >7\n",
    "print('\\nBoolean values\\n',fil_arr)\n",
    "print('\\nFilter elements\\n',arr[fil_arr]) # passing boolean array into arr indexing. "
   ]
  },
  {
   "cell_type": "markdown",
   "id": "3e6797b0-fb5c-4f09-b4d9-c281558ecca3",
   "metadata": {},
   "source": [
    "## shuffle() function"
   ]
  },
  {
   "cell_type": "code",
   "execution_count": 61,
   "id": "da84d0bd-fd69-4bfc-b937-e38b07762f1c",
   "metadata": {},
   "outputs": [
    {
     "name": "stdout",
     "output_type": "stream",
     "text": [
      "Original Array:  [0 1 2 3 4 5 6 7 8 9]\n",
      "Shuffled Array:  [9 5 7 4 1 6 8 3 0 2]\n"
     ]
    }
   ],
   "source": [
    "# shuffle() Modify a sequence in-place by shuffling its contents.\n",
    "arr = np.arange(10)\n",
    "print('Original Array: ',arr)\n",
    "np.random.shuffle(arr) # It change inplace on Original Array\n",
    "print('Shuffled Array: ',arr)"
   ]
  },
  {
   "cell_type": "markdown",
   "id": "5edae573-6dcc-4654-802c-9ac02432ff48",
   "metadata": {},
   "source": [
    "## unique() function"
   ]
  },
  {
   "cell_type": "code",
   "execution_count": 17,
   "id": "03f33fe8-763f-40a6-9ff1-440d896d92d9",
   "metadata": {},
   "outputs": [
    {
     "name": "stdout",
     "output_type": "stream",
     "text": [
      "Original Array\n",
      " [[1 2 4 7 8]\n",
      " [2 3 7 9 0]]\n",
      "\n",
      "Unique Array elemenets:  [0 1 2 3 4 7 8 9]\n",
      "\n",
      "Unique Array elemenets and value count of elements (array([0, 1, 2, 3, 4, 7, 8, 9]), array([1, 1, 2, 1, 1, 2, 1, 1], dtype=int64))\n"
     ]
    }
   ],
   "source": [
    "arr = np.array([[1,2,4,7,8],[2,3,7,9,0]])\n",
    "print('Original Array\\n',arr)\n",
    "print('\\nUnique Array elemenets: ',np.unique(arr))\n",
    "## np.unique() function has another parameters (return_counts) will return the count of each elements in Array\n",
    "print('\\nUnique Array elemenets and value count of elements', np.unique(arr, return_counts=True))"
   ]
  },
  {
   "cell_type": "markdown",
   "id": "57841347-5edc-4ae9-be08-18f820c4d5a9",
   "metadata": {},
   "source": [
    "## resize() function"
   ]
  },
  {
   "cell_type": "code",
   "execution_count": 133,
   "id": "444b326c-e1f6-46a9-81a7-df454736fe69",
   "metadata": {},
   "outputs": [
    {
     "name": "stdout",
     "output_type": "stream",
     "text": [
      "Original Array\n",
      " [[0 1 2 3 4]\n",
      " [5 6 7 8 9]]\n",
      "\n",
      "Unique Array elemenets:  [[0 1]\n",
      " [2 3]\n",
      " [4 5]\n",
      " [6 7]\n",
      " [8 9]\n",
      " [0 1]]\n"
     ]
    }
   ],
   "source": [
    "#resize() return a new array with the specified shape. If the new array is larger than the original array, then the new array is filled with repeated copies of original array.\n",
    "\n",
    "arr = np.arange(10).reshape(2,5)\n",
    "print('Original Array\\n',arr)\n",
    "\n",
    "print('\\nUnique Array elemenets: ',np.resize(arr,(6,2)))"
   ]
  },
  {
   "cell_type": "markdown",
   "id": "f2074dbf-883c-4cfd-89fd-51eef854f790",
   "metadata": {},
   "source": [
    "## ravel() function"
   ]
  },
  {
   "cell_type": "code",
   "execution_count": 137,
   "id": "8347dd05-4ff5-47e9-b7ca-579fdf37a47e",
   "metadata": {},
   "outputs": [
    {
     "name": "stdout",
     "output_type": "stream",
     "text": [
      "Original Array\n",
      " [[0 1 2 3 4]\n",
      " [5 6 7 8 9]]\n",
      "\n",
      "Flattened Array:  [0 1 2 3 4 5 6 7 8 9]\n"
     ]
    }
   ],
   "source": [
    "#ravel() return a contiguous flattened array\n",
    "arr = np.arange(10).reshape(2,5)\n",
    "print('Original Array\\n',arr)\n",
    "\n",
    "print('\\nFlattened Array: ',np.ravel(arr))"
   ]
  },
  {
   "cell_type": "markdown",
   "id": "074fec34-539f-41ff-8ad8-a2035dda2b46",
   "metadata": {},
   "source": [
    "## Array slicing/Filtering"
   ]
  },
  {
   "cell_type": "code",
   "execution_count": 56,
   "id": "a5f191aa-3da3-49fd-a932-9913745ea315",
   "metadata": {},
   "outputs": [
    {
     "name": "stdout",
     "output_type": "stream",
     "text": [
      "Original Array\n",
      " [[0.57481963 0.96095934 0.90982845]\n",
      " [0.7674225  0.70502246 0.19380566]\n",
      " [0.77584037 0.88122502 0.8624483 ]]\n",
      "\n",
      "Masked Boolean Array\n",
      " [[ True  True  True]\n",
      " [ True  True False]\n",
      " [ True  True  True]]\n",
      "\n",
      "Masked Original Array\n",
      " [0.57481963 0.96095934 0.90982845 0.7674225  0.70502246 0.77584037\n",
      " 0.88122502 0.8624483 ]\n"
     ]
    }
   ],
   "source": [
    "arr = np.random.rand(9).reshape(3,3)\n",
    "print('Original Array\\n',arr)\n",
    "\n",
    "## creating mask boolean array\n",
    "fil = arr>0.4\n",
    "print('\\nMasked Boolean Array\\n',fil)\n",
    "\n",
    "masked_arr = arr[fil]\n",
    "print('\\nMasked Original Array\\n',masked_arr)"
   ]
  },
  {
   "cell_type": "markdown",
   "id": "2dbf070a-f045-42f1-b413-c26dafaff6ca",
   "metadata": {},
   "source": [
    "## insert() function\n",
    "`numpy.insert(arr, obj, values, axis=None)`"
   ]
  },
  {
   "cell_type": "code",
   "execution_count": 92,
   "id": "f6a85c3c-dbfa-4ebd-bab0-fb0fc890e28b",
   "metadata": {},
   "outputs": [
    {
     "name": "stdout",
     "output_type": "stream",
     "text": [
      "Original 1D Array [1 2 3 4]\n",
      "Original 2D Array\n",
      " [[1 2 3 4]\n",
      " [5 6 7 8]]\n",
      "\n",
      "Insert value at specific location:  [1 0 2 3 4]\n",
      "\n",
      "Insert value at specific location:  [1 0 2 3 4]\n",
      "\n",
      "Insert value at specific location:\n",
      " [[1 0 2 3 4]\n",
      " [5 0 6 7 8]]\n",
      "\n",
      "Insert value at specific location:\n",
      " [[1 0 2 3 4]\n",
      " [5 0 6 7 8]]\n",
      "\n",
      "Insert value at specific location:\n",
      " [[1 2 3 4]\n",
      " [0 0 0 0]\n",
      " [5 6 7 8]]\n",
      "\n",
      "Insert value at specific location:\n",
      " [[1 2 3 4]\n",
      " [0 0 0 0]\n",
      " [5 6 7 8]]\n"
     ]
    }
   ],
   "source": [
    "\"\"\" This function insert values along the given axis before the given indices. \n",
    "It contains 4 parameters, 1. Input Array, 2. index when we want to insert, 3. value to be inserted, 4. axis\n",
    "\"\"\"\n",
    "arr_1D = np.array([1,2,3,4])\n",
    "arr_2D = np.array([[1,2,3,4],[5,6,7,8]])\n",
    "\n",
    "print('Original 1D Array',arr_1D)\n",
    "print('Original 2D Array\\n',arr_2D)\n",
    "\n",
    "print('\\nInsert value at specific location: ', np.insert(arr= arr_1D,obj=1,values=0)) #with parameter name \n",
    "print('\\nInsert value at specific location: ', np.insert(arr_1D,1,0)) # without parameters\n",
    "\n",
    "# Here new values of \"0\" inserted on along the column on index 1. Entire 1st indexed column are\n",
    "print('\\nInsert value at specific location:\\n', np.insert(arr= arr_2D,obj=1,values=0,axis=1)) #with parameter name \n",
    "print('\\nInsert value at specific location:\\n', np.insert(arr_2D,1,0,1)) # without parameters\n",
    "\n",
    "print('\\nInsert value at specific location:\\n', np.insert(arr= arr_2D,obj=1,values=0,axis=0)) #with parameter name \n",
    "print('\\nInsert value at specific location:\\n', np.insert(arr_2D,1,0,0)) # without parameters"
   ]
  },
  {
   "cell_type": "code",
   "execution_count": 129,
   "id": "063b79b0-09eb-43b4-8041-1ba78973c1f1",
   "metadata": {},
   "outputs": [
    {
     "name": "stdout",
     "output_type": "stream",
     "text": [
      "Original 2D Array Shape: (10, 10) \n",
      "\n",
      " [[60 56 46  3 69 11 12 45 47 73]\n",
      " [72 66 70 67  6 49 76 34 46 26]\n",
      " [34 10 90 10 33 50 50 44 32 73]\n",
      " [87 17 83 18 75 45 30  1 83 45]\n",
      " [34 88 82 51 98 45  3 54 84 96]\n",
      " [28 77 83  6 16 28 75 78 64 32]\n",
      " [55 53 73 58 76 56 30 57 91 82]\n",
      " [39 18 77 86 47 50 62 90 57 90]\n",
      " [62 37 15 66 88  8  8  5 16 32]\n",
      " [55 85 75 26 33 70 18 82  8 65]]\n",
      "\n",
      "\n",
      "Array with new row: (11, 10) \n",
      " [[60 56 46  3 69 11 12 45 47 73]\n",
      " [72 66 70 67  6 49 76 34 46 26]\n",
      " [34 10 90 10 33 50 50 44 32 73]\n",
      " [87 17 83 18 75 45 30  1 83 45]\n",
      " [ 3  3  6  2  8  4  6  4  6  5]\n",
      " [34 88 82 51 98 45  3 54 84 96]\n",
      " [28 77 83  6 16 28 75 78 64 32]\n",
      " [55 53 73 58 76 56 30 57 91 82]\n",
      " [39 18 77 86 47 50 62 90 57 90]\n",
      " [62 37 15 66 88  8  8  5 16 32]\n",
      " [55 85 75 26 33 70 18 82  8 65]]\n",
      "\n",
      "\n",
      "Array with new column: (10, 11) \n",
      " [[60  2 56 46  3 69 11 12 45 47 73]\n",
      " [72  3 66 70 67  6 49 76 34 46 26]\n",
      " [34  5 10 90 10 33 50 50 44 32 73]\n",
      " [87  7 17 83 18 75 45 30  1 83 45]\n",
      " [34  8 88 82 51 98 45  3 54 84 96]\n",
      " [28  0 77 83  6 16 28 75 78 64 32]\n",
      " [55  0 53 73 58 76 56 30 57 91 82]\n",
      " [39  8 18 77 86 47 50 62 90 57 90]\n",
      " [62  6 37 15 66 88  8  8  5 16 32]\n",
      " [55  2 85 75 26 33 70 18 82  8 65]]\n"
     ]
    }
   ],
   "source": [
    "## Example\n",
    "## Creating 10 x 10 Array \n",
    "arr_larg = np.random.randint(100,size=(10,10))\n",
    "print(f'Original 2D Array Shape: {arr_larg.shape}','\\n\\n',arr_larg)\n",
    "\n",
    "## Inserting new row at the 5th row in to the array. \n",
    "new_arr = np.insert(arr_larg,4,np.random.randint(10,size=(10)),axis=0)\n",
    "print(f'\\n\\nArray with new row: {new_arr.shape}','\\n', new_arr)\n",
    "\n",
    "## Inserting new column at the 2th row in to the array. \n",
    "new_arr = np.insert(arr_larg,1,np.random.randint(10,size=(10)),axis=1)\n",
    "print(f'\\n\\nArray with new column: {new_arr.shape}','\\n', new_arr)"
   ]
  },
  {
   "cell_type": "markdown",
   "id": "eee3f5f2-fe07-4754-9548-5f2c9e9e9ad0",
   "metadata": {},
   "source": [
    "## delete() function\n",
    "`numpy.delete(arr, obj, axis=None)`"
   ]
  },
  {
   "cell_type": "code",
   "execution_count": 155,
   "id": "71e69374-d09c-4eab-b81a-c5ff9379ca41",
   "metadata": {},
   "outputs": [
    {
     "name": "stdout",
     "output_type": "stream",
     "text": [
      "Original 2D Array Shape: (5, 5) \n",
      "\n",
      " [[11 10 37 22 40]\n",
      " [14 27  9 16 48]\n",
      " [ 9 29 28  2 30]\n",
      " [24 10  8 23 33]\n",
      " [42 36 40 45 15]]\n",
      "\n",
      "\n",
      "Array with deleted row: (4, 5) \n",
      " [[11 10 37 22 40]\n",
      " [14 27  9 16 48]\n",
      " [24 10  8 23 33]\n",
      " [42 36 40 45 15]]\n",
      "\n",
      "\n",
      "Array with deleted column: (5, 4) \n",
      " [[11 10 22 40]\n",
      " [14 27 16 48]\n",
      " [ 9 29  2 30]\n",
      " [24 10 23 33]\n",
      " [42 36 45 15]]\n"
     ]
    }
   ],
   "source": [
    "\"\"\"Return a new array with sub-arrays along an axis deleted\"\"\"\n",
    "\n",
    "## Creating 10 x 10 Array \n",
    "arr_larg = np.random.randint(50,size=(5,5))\n",
    "print(f'Original 2D Array Shape: {arr_larg.shape}','\\n\\n',arr_larg)\n",
    "\n",
    "## Delecting row at the 3th row in to the array. \n",
    "new_arr = np.delete(arr_larg,2,axis=0)\n",
    "print(f'\\n\\nArray with deleted row: {new_arr.shape}','\\n', new_arr)\n",
    "\n",
    "\n",
    "## Delecting row at the 3th column in to the array. \n",
    "new_arr = np.delete(arr_larg,2,axis=1)\n",
    "print(f'\\n\\nArray with deleted column: {new_arr.shape}','\\n', new_arr)"
   ]
  },
  {
   "cell_type": "markdown",
   "id": "1dbccedd-efde-4963-ab59-94b05dfb9ecc",
   "metadata": {},
   "source": [
    "## Arithmetic Operations with NumPy Arrays"
   ]
  },
  {
   "cell_type": "code",
   "execution_count": 179,
   "id": "edcc38a2-bdc8-42fa-ad16-57bcef12cd59",
   "metadata": {},
   "outputs": [
    {
     "name": "stdout",
     "output_type": "stream",
     "text": [
      "left Array:\n",
      " [[4 5 6]\n",
      " [4 5 6]\n",
      " [4 5 6]] \n",
      "\n",
      "Right Array:\n",
      " [[2 1 2]\n",
      " [2 3 1]\n",
      " [4 1 3]]\n",
      "\n",
      "Addition:\n",
      " [[6 6 8]\n",
      " [6 8 7]\n",
      " [8 6 9]]\n",
      "\n",
      "Subtraction:\n",
      " [[2 4 4]\n",
      " [2 2 5]\n",
      " [0 4 3]]\n",
      "\n",
      "Multiplication:\n",
      " [[ 8  5 12]\n",
      " [ 8 15  6]\n",
      " [16  5 18]]\n",
      "\n",
      "Square:\n",
      " [[ 16   5  36]\n",
      " [ 16 125   6]\n",
      " [256   5 216]]\n",
      "\n",
      "Division:\n",
      " [[2.         5.         3.        ]\n",
      " [2.         1.66666667 6.        ]\n",
      " [1.         5.         2.        ]]\n",
      "\n",
      "Floor division:\n",
      " [[2 5 3]\n",
      " [2 1 6]\n",
      " [1 5 2]]\n",
      "\n",
      "Modulus:\n",
      " [[0 0 0]\n",
      " [0 2 0]\n",
      " [0 0 0]]\n"
     ]
    }
   ],
   "source": [
    "left_arr = np.array([[4,5,6],[4,5,6],[4,5,6]])\n",
    "right_arr = np.array([[2,1,2],[2,3,1],[4,1,3]])\n",
    "\n",
    "print('left Array:\\n',left_arr, '\\n\\nRight Array:\\n', right_arr)\n",
    "print('\\nAddition:\\n',left_arr+right_arr)\n",
    "print('\\nSubtraction:\\n',left_arr-right_arr)\n",
    "print('\\nMultiplication:\\n',left_arr*right_arr)\n",
    "print('\\nSquare:\\n',left_arr**right_arr)\n",
    "\n",
    "print('\\nDivision:\\n',left_arr/right_arr)\n",
    "print('\\nFloor division:\\n',left_arr//right_arr) # Retunr the quotient\n",
    "print('\\nModulus:\\n',left_arr%right_arr) # Retunr the reminder\n"
   ]
  },
  {
   "cell_type": "markdown",
   "id": "70c50917-1a6d-440c-a419-74af4d488fef",
   "metadata": {},
   "source": [
    "## Numpy Arithmetic Functions"
   ]
  },
  {
   "cell_type": "markdown",
   "id": "50eb9468-1dd2-4107-8e6f-ffd670bc0d46",
   "metadata": {},
   "source": [
    "You could use arithmetic operators `+ - * /` directly between NumPy arrays, but this section discusses an extension of the same where we have functions that can take any array-like objects e.g. lists, tuples etc. and perform arithmetic conditionally."
   ]
  },
  {
   "cell_type": "code",
   "execution_count": 22,
   "id": "11a1905c-a4be-49ad-b7c2-365d9cf82b83",
   "metadata": {},
   "outputs": [
    {
     "name": "stdout",
     "output_type": "stream",
     "text": [
      "numpy add function: [30 32 34 36 38 40]\n",
      "\n",
      "numpy subtract function: [-10 -10 -10 -10 -10 -10]\n",
      "\n",
      "numpy multiply function: [200 231 264 299 336 375]\n",
      "\n",
      "numpy divide function: [0.5        0.52380952 0.54545455 0.56521739 0.58333333 0.6       ]\n",
      "\n",
      "numpy multiply function: [200 231 264 299 336 375]\n",
      "\n",
      "numpy power function: [ 1661992960   602408795           0  1487897765  1090519040 -1144744561]\n",
      "\n",
      "numpy remainder function: [10 11 12 13 14 15]\n",
      "\n",
      "numpy mod function: [10 11 12 13 14 15]\n",
      "\n",
      "numpy divmod function: (array([0, 0, 0, 0, 0, 0]), array([10, 11, 12, 13, 14, 15]))\n",
      "\n",
      "numpy absolute function: [10 11 12 13 14 15]\n"
     ]
    }
   ],
   "source": [
    "arr1 = np.array([10, 11, 12, 13, 14, 15])\n",
    "arr2 = np.array([20, 21, 22, 23, 24, 25])\n",
    "\n",
    "print('numpy add function:',np.add(arr1, arr2))\n",
    "\n",
    "print('\\nnumpy subtract function:',np.subtract(arr1, arr2))\n",
    "\n",
    "print('\\nnumpy multiply function:',np.multiply(arr1, arr2))\n",
    "\n",
    "print('\\nnumpy divide function:',np.divide(arr1, arr2))\n",
    "\n",
    "print('\\nnumpy multiply function:',np.multiply(arr1, arr2))\n",
    "\n",
    "print('\\nnumpy power function:',np.power(arr1, arr2))\n",
    "\n",
    "\"\"\"Both the mod() and the remainder() functions return the remainder of the values in the first array corresponding to the values \n",
    "   in the second array\n",
    "\"\"\"\n",
    "print('\\nnumpy remainder function:',np.remainder(arr1, arr2))\n",
    "print('\\nnumpy mod function:',np.mod(arr1, arr2))\n",
    "\n",
    "\"\"\"The divmod() function return both the quotient and the mod. The return value is two arrays, \n",
    "the first array contains the quotient and second array contains the mod\n",
    "\"\"\"\n",
    "print('\\nnumpy divmod function:',np.divmod(arr1, arr2))\n",
    "\n",
    "\"\"\"Both the absolute() and the abs() functions do the same absolute operation element-wise but we should use absolute() \n",
    "to avoid confusion with python's inbuilt math.abs()\n",
    "\"\"\"\n",
    "print('\\nnumpy absolute function:',np.absolute(arr1, arr2))\n"
   ]
  },
  {
   "cell_type": "markdown",
   "id": "f0a68c9a-38b6-4f07-bea3-75a2a3fa0445",
   "metadata": {},
   "source": [
    "## Matrix Operation"
   ]
  },
  {
   "cell_type": "markdown",
   "id": "702f3155-670b-44e9-b164-bfdef5694e90",
   "metadata": {},
   "source": [
    "You can achieve all matrix operations with ndarray using functions like numpy.dot, numpy.matmul, or the @ operator for matrix multiplication."
   ]
  },
  {
   "attachments": {
    "c053468d-f7f6-43c4-8a82-0f0447c74534.png": {
     "image/png": "[encoded data removed]"
    }
   },
   "cell_type": "markdown",
   "id": "e1a1dd18-3799-4941-bb3d-2bd51df9454a",
   "metadata": {},
   "source": [
    "![image.png](attachment:c053468d-f7f6-43c4-8a82-0f0447c74534.png)"
   ]
  },
  {
   "cell_type": "code",
   "execution_count": 14,
   "id": "8fd3a578-f642-40bd-ac58-4c42c2866fb6",
   "metadata": {},
   "outputs": [
    {
     "name": "stdout",
     "output_type": "stream",
     "text": [
      "Original Array-1:\n",
      " [[1 2]\n",
      " [3 4]] \n",
      "Original Array-2:\n",
      " [[5 6]\n",
      " [0 7]]\n",
      "\n",
      "dot multiply:\n",
      " [[ 5 20]\n",
      " [15 46]]\n"
     ]
    }
   ],
   "source": [
    "arr1 = np.array([[1,2],[3,4]])\n",
    "arr2 = np.array([[5,6],[0,7]])\n",
    "\n",
    "print('Original Array-1:\\n',arr1,'\\nOriginal Array-2:\\n',arr2)\n",
    "\n",
    "print('\\ndot multiply:\\n',np.dot(arr1,arr2))"
   ]
  },
  {
   "cell_type": "code",
   "execution_count": 8,
   "id": "cc66a618-55c7-4f87-bf44-f21ebca1684b",
   "metadata": {},
   "outputs": [
    {
     "data": {
      "text/plain": [
       "array([[ 5, 20],\n",
       "       [15, 46]])"
      ]
     },
     "execution_count": 8,
     "metadata": {},
     "output_type": "execute_result"
    }
   ],
   "source": [
    "np.dot(arr1,arr2)"
   ]
  },
  {
   "cell_type": "markdown",
   "id": "3e600449-d6d2-41ae-a42a-523c37bc9fe2",
   "metadata": {},
   "source": [
    "Reference:\n",
    "https://www.youtube.com/watch?v=xdrSW-gFsic&list=PLc20sA5NNOvozFyzAoKqc-_qLluA-IeYd&index=1"
   ]
  }
 ],
 "metadata": {
  "kernelspec": {
   "display_name": "Python 3 (ipykernel)",
   "language": "python",
   "name": "python3"
  },
  "language_info": {
   "codemirror_mode": {
    "name": "ipython",
    "version": 3
   },
   "file_extension": ".py",
   "mimetype": "text/x-python",
   "name": "python",
   "nbconvert_exporter": "python",
   "pygments_lexer": "ipython3",
   "version": "3.11.9"
  }
 },
 "nbformat": 4,
 "nbformat_minor": 5
}

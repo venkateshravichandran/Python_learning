{
 "cells": [
  {
   "cell_type": "markdown",
   "id": "947d45da-e92e-4b74-91b1-b69ec1b06cea",
   "metadata": {},
   "source": [
    "## Lambda functions"
   ]
  },
  {
   "cell_type": "markdown",
   "id": "9dfec2b2-ca8a-43c6-869f-526dd24cb405",
   "metadata": {},
   "source": [
    "- There’s a quicker way to write on-the-fly functions in Python and they are known as lambda functions. \n",
    "- They are also referred to as anonymous functions sometimes.\n",
    "- We use the keyword lambda to write such functions. The syntax for lambda functions is as follows: \n",
    "- `lambda arguments: expression`"
   ]
  },
  {
   "cell_type": "code",
   "execution_count": null,
   "id": "2b39afd5-2835-453e-beb0-a4e2a315820b",
   "metadata": {},
   "outputs": [],
   "source": [
    "lam_fun = lambda : print('hello world!')\n",
    "\n",
    "lam_fun()"
   ]
  },
  {
   "cell_type": "code",
   "execution_count": null,
   "id": "c6dede7b-877a-4acb-81e8-1fe8da1ab708",
   "metadata": {},
   "outputs": [],
   "source": [
    "square = lambda a: a*a\n",
    "\n",
    "print(square(2))\n",
    "print(square(4))"
   ]
  },
  {
   "cell_type": "code",
   "execution_count": null,
   "id": "38e7d977-42b0-49c7-8cf3-a61e13664f50",
   "metadata": {},
   "outputs": [],
   "source": [
    "mylist = [1,2,3,4,5]\n",
    "\n",
    "factorial = lambda a: a*(a-1)\n",
    "factorial(2)"
   ]
  },
  {
   "cell_type": "code",
   "execution_count": null,
   "id": "50f8a95a-9806-47a2-b19a-68d60de27df0",
   "metadata": {},
   "outputs": [],
   "source": [
    "factorial = lambda n: 1 if n == 0 else n * factorial(n - 1)\n",
    "print(factorial(0))  # Output: 120"
   ]
  },
  {
   "cell_type": "markdown",
   "id": "8a9f6267-6180-4874-a1ab-69c2f46a9a7c",
   "metadata": {},
   "source": [
    "## map() Function"
   ]
  },
  {
   "cell_type": "markdown",
   "id": "ec13a373-6199-47cd-b83b-1df445313075",
   "metadata": {},
   "source": [
    "- The map function takes two arguments: a function and a sequence such as a list. \n",
    "- This function makes an iterator that applies the function to each element of a sequence. \n",
    "- We can pass lambda function to this map function without even naming it. In this case, we refer to lambda functions as an anonymous function."
   ]
  },
  {
   "cell_type": "code",
   "execution_count": 2,
   "id": "4fedf43e-fb49-4cdb-81ea-c5be49df2e61",
   "metadata": {},
   "outputs": [
    {
     "name": "stdout",
     "output_type": "stream",
     "text": [
      "<map object at 0x00000286F5E7F370>\n",
      "[1, 4, 9, 16, 25]\n"
     ]
    }
   ],
   "source": [
    "my_list = [1,2,3,4,5]\n",
    "\n",
    "mapfunction = map(lambda num: num**2, my_list)\n",
    "print(mapfunction) # now this is an map object\\\n",
    "x = list(mapfunction) # casting map object in to list data type\n",
    "print(x)"
   ]
  },
  {
   "cell_type": "markdown",
   "id": "832d6e91-c022-49ec-bf0c-71479a78c3f3",
   "metadata": {},
   "source": [
    "## filter() Function"
   ]
  },
  {
   "cell_type": "markdown",
   "id": "370d9394-fa8a-4885-a40e-98ff3bb1121d",
   "metadata": {},
   "source": [
    "- The filter function takes two arguments: a function or None and a sequence. \n",
    "- This function offers a way to filter out elements from a list that don’t satisfy certain criteria"
   ]
  },
  {
   "cell_type": "code",
   "execution_count": 7,
   "id": "3bee1954-fa51-45f8-87c1-f0a823f17b30",
   "metadata": {},
   "outputs": [
    {
     "name": "stdout",
     "output_type": "stream",
     "text": [
      "<filter object at 0x00000286F68EB3D0>\n",
      "[True, True, True]\n"
     ]
    }
   ],
   "source": [
    "# Creating a list of booleans\n",
    "booleans = [False, True, True, False, True]\n",
    "\n",
    "filterfunction = filter(None,booleans)\n",
    "print(filterfunction)\n",
    "print(list(filterfunction))"
   ]
  },
  {
   "cell_type": "code",
   "execution_count": 11,
   "id": "de764280-2467-4e21-a6bf-7fefdfd5586d",
   "metadata": {},
   "outputs": [
    {
     "name": "stdout",
     "output_type": "stream",
     "text": [
      "<filter object at 0x00000286F7039540>\n",
      "[22, 56, 89, 36]\n"
     ]
    }
   ],
   "source": [
    "my_list = [10,22,56,89,36,19]\n",
    "\n",
    "filfun = filter(lambda num: num>20,my_list)\n",
    "print(filfun)\n",
    "# Casting 'filtered_strings' to a list and printing it\n",
    "print(list(filfun))"
   ]
  },
  {
   "cell_type": "markdown",
   "id": "fdcc9262-8714-46c4-8956-8720e01b25db",
   "metadata": {},
   "source": [
    "## zip() Function"
   ]
  },
  {
   "cell_type": "markdown",
   "id": "344b79de-758f-409b-8b09-3f2481b548c1",
   "metadata": {
    "editable": true,
    "slideshow": {
     "slide_type": ""
    },
    "tags": []
   },
   "source": [
    "- In the Python world, the zip function works more or less as a container foriterables instead of real files. \n",
    "- The syntax for the zip is shown below: `zip(*iterables)`\n",
    "- It takes an iterable as an input and returns the iterator that aggregates elements from each of the iterable. The output contains the iterator of a tuple.\n",
    "- The i-th element in the iterator is the tuple consisting the i-th element from each input.\n",
    "- If the iterables in the input are of unequal sizes, the output iterator stops when the shortest input iterable is exhausted."
   ]
  },
  {
   "cell_type": "code",
   "execution_count": 19,
   "id": "5c0ac891-99e4-4bea-a63b-e916a964c333",
   "metadata": {
    "editable": true,
    "slideshow": {
     "slide_type": ""
    },
    "tags": []
   },
   "outputs": [
    {
     "name": "stdout",
     "output_type": "stream",
     "text": [
      "<zip object at 0x00000286F68BFF80>\n",
      "[('Venkat', 'GIS Analyst'), ('Chandru', 'SDE-1'), ('Johnny', 'GIS Consultant')]\n"
     ]
    }
   ],
   "source": [
    "names = ['Venkat','Chandru','Johnny']\n",
    "jobs = ['GIS Analyst','SDE-1','GIS Consultant']\n",
    "\n",
    "# Zipping the above defined iterables using the 'zip'\n",
    "zipfunction = zip(names,jobs)\n",
    "\n",
    "print(zipfunction)\n",
    "print(list(zipfunction)) # returns the list of tuples by zipping the elements from two iterables with same index"
   ]
  },
  {
   "cell_type": "markdown",
   "id": "6a734c61-ca39-4860-a9c6-2bbf2d0805f7",
   "metadata": {},
   "source": [
    "- The zipped object is the iterator of type zip and hence we can iterate either over it using a looping technique to print its content:"
   ]
  },
  {
   "cell_type": "code",
   "execution_count": 22,
   "id": "fcfd3e01-a7b7-4dbf-9bf3-8e7cbffd5fcc",
   "metadata": {},
   "outputs": [
    {
     "name": "stdout",
     "output_type": "stream",
     "text": [
      "Myself Venkat working as GIS Analyst\n",
      "Myself Chandru working as SDE-1\n",
      "Myself Johnny working as GIS Consultant\n"
     ]
    }
   ],
   "source": [
    "# iterating through Zipped object\n",
    "zipfunction = zip(names,jobs)\n",
    "for name, job in zipfunction:\n",
    "    print(f'Myself {name} working as {job}')"
   ]
  },
  {
   "cell_type": "markdown",
   "id": "6460033f-72a8-4394-90ac-98f1f115723d",
   "metadata": {},
   "source": [
    "- The zipped object contains a sequence of tuples where elements are from the corresponding inputs.\n",
    "- So, we can unzip the zipped object"
   ]
  },
  {
   "cell_type": "code",
   "execution_count": 31,
   "id": "e7f6bbe7-7f3d-4049-95f7-b5a2f431172c",
   "metadata": {},
   "outputs": [
    {
     "name": "stdout",
     "output_type": "stream",
     "text": [
      "('Venkat', 'Chandru', 'Johnny') \n",
      " ('GIS Analyst', 'SDE-1', 'GIS Consultant')\n"
     ]
    }
   ],
   "source": [
    "zipfunction = zip(names,jobs)\n",
    "\n",
    "name, job = zip(*zipfunction)\n",
    "print(name, '\\n',job)"
   ]
  }
 ],
 "metadata": {
  "kernelspec": {
   "display_name": "Python 3 (ipykernel)",
   "language": "python",
   "name": "python3"
  },
  "language_info": {
   "codemirror_mode": {
    "name": "ipython",
    "version": 3
   },
   "file_extension": ".py",
   "mimetype": "text/x-python",
   "name": "python",
   "nbconvert_exporter": "python",
   "pygments_lexer": "ipython3",
   "version": "3.11.9"
  }
 },
 "nbformat": 4,
 "nbformat_minor": 5
}
